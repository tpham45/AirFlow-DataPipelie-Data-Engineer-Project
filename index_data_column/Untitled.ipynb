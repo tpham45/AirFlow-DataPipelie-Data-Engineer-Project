{
 "cells": [
  {
   "cell_type": "code",
   "execution_count": 34,
   "id": "90bbb949",
   "metadata": {},
   "outputs": [],
   "source": [
    "##import important library\n",
    "import io\n",
    "import os\n",
    "import pandas as pd\n",
    "import requests"
   ]
  },
  {
   "cell_type": "code",
   "execution_count": 47,
   "id": "00b57cef",
   "metadata": {},
   "outputs": [],
   "source": [
    "df = pd.read_parquet('yellow_tripdata_2023-11.parquet')"
   ]
  },
  {
   "cell_type": "code",
   "execution_count": 48,
   "id": "3ccba40d",
   "metadata": {},
   "outputs": [
    {
     "data": {
      "text/html": [
       "<div>\n",
       "<style scoped>\n",
       "    .dataframe tbody tr th:only-of-type {\n",
       "        vertical-align: middle;\n",
       "    }\n",
       "\n",
       "    .dataframe tbody tr th {\n",
       "        vertical-align: top;\n",
       "    }\n",
       "\n",
       "    .dataframe thead th {\n",
       "        text-align: right;\n",
       "    }\n",
       "</style>\n",
       "<table border=\"1\" class=\"dataframe\">\n",
       "  <thead>\n",
       "    <tr style=\"text-align: right;\">\n",
       "      <th></th>\n",
       "      <th>trip_id</th>\n",
       "      <th>vendorindex_id</th>\n",
       "      <th>vendor_id</th>\n",
       "      <th>vendor_type</th>\n",
       "      <th>datetimeindex_id</th>\n",
       "      <th>pick_datetime</th>\n",
       "      <th>pick_hour</th>\n",
       "      <th>pick_day</th>\n",
       "      <th>pick_month</th>\n",
       "      <th>pick_year</th>\n",
       "      <th>...</th>\n",
       "      <th>trip_distance</th>\n",
       "      <th>fare_amount</th>\n",
       "      <th>extra</th>\n",
       "      <th>mta_tax</th>\n",
       "      <th>tip_amount</th>\n",
       "      <th>tolls_amount</th>\n",
       "      <th>improvement_surcharge</th>\n",
       "      <th>congestion_surcharge</th>\n",
       "      <th>Airport_fee</th>\n",
       "      <th>total_amount</th>\n",
       "    </tr>\n",
       "  </thead>\n",
       "  <tbody>\n",
       "    <tr>\n",
       "      <th>0</th>\n",
       "      <td>0</td>\n",
       "      <td>0</td>\n",
       "      <td>1</td>\n",
       "      <td>Creative Mobile Technologies,LLC</td>\n",
       "      <td>0</td>\n",
       "      <td>2023-11-01 00:03:00</td>\n",
       "      <td>0</td>\n",
       "      <td>1</td>\n",
       "      <td>11</td>\n",
       "      <td>2023</td>\n",
       "      <td>...</td>\n",
       "      <td>13.60</td>\n",
       "      <td>61.8</td>\n",
       "      <td>2.75</td>\n",
       "      <td>0.5</td>\n",
       "      <td>0.00</td>\n",
       "      <td>0.00</td>\n",
       "      <td>1.0</td>\n",
       "      <td>0.0</td>\n",
       "      <td>1.75</td>\n",
       "      <td>66.05</td>\n",
       "    </tr>\n",
       "    <tr>\n",
       "      <th>1</th>\n",
       "      <td>1</td>\n",
       "      <td>1</td>\n",
       "      <td>1</td>\n",
       "      <td>Creative Mobile Technologies,LLC</td>\n",
       "      <td>1</td>\n",
       "      <td>2023-11-01 00:03:00</td>\n",
       "      <td>0</td>\n",
       "      <td>1</td>\n",
       "      <td>11</td>\n",
       "      <td>2023</td>\n",
       "      <td>...</td>\n",
       "      <td>3.50</td>\n",
       "      <td>20.5</td>\n",
       "      <td>3.50</td>\n",
       "      <td>0.5</td>\n",
       "      <td>5.10</td>\n",
       "      <td>0.00</td>\n",
       "      <td>1.0</td>\n",
       "      <td>2.5</td>\n",
       "      <td>0.00</td>\n",
       "      <td>30.60</td>\n",
       "    </tr>\n",
       "    <tr>\n",
       "      <th>2</th>\n",
       "      <td>2</td>\n",
       "      <td>2</td>\n",
       "      <td>2</td>\n",
       "      <td>Verifone Inc</td>\n",
       "      <td>2</td>\n",
       "      <td>2023-10-31 23:58:00</td>\n",
       "      <td>23</td>\n",
       "      <td>31</td>\n",
       "      <td>10</td>\n",
       "      <td>2023</td>\n",
       "      <td>...</td>\n",
       "      <td>18.61</td>\n",
       "      <td>70.0</td>\n",
       "      <td>0.00</td>\n",
       "      <td>0.5</td>\n",
       "      <td>16.54</td>\n",
       "      <td>6.94</td>\n",
       "      <td>1.0</td>\n",
       "      <td>2.5</td>\n",
       "      <td>1.75</td>\n",
       "      <td>99.23</td>\n",
       "    </tr>\n",
       "    <tr>\n",
       "      <th>3</th>\n",
       "      <td>3</td>\n",
       "      <td>3</td>\n",
       "      <td>2</td>\n",
       "      <td>Verifone Inc</td>\n",
       "      <td>3</td>\n",
       "      <td>2023-11-01 00:03:00</td>\n",
       "      <td>0</td>\n",
       "      <td>1</td>\n",
       "      <td>11</td>\n",
       "      <td>2023</td>\n",
       "      <td>...</td>\n",
       "      <td>0.39</td>\n",
       "      <td>4.4</td>\n",
       "      <td>1.00</td>\n",
       "      <td>0.5</td>\n",
       "      <td>1.88</td>\n",
       "      <td>0.00</td>\n",
       "      <td>1.0</td>\n",
       "      <td>2.5</td>\n",
       "      <td>0.00</td>\n",
       "      <td>11.28</td>\n",
       "    </tr>\n",
       "    <tr>\n",
       "      <th>4</th>\n",
       "      <td>4</td>\n",
       "      <td>4</td>\n",
       "      <td>2</td>\n",
       "      <td>Verifone Inc</td>\n",
       "      <td>4</td>\n",
       "      <td>2023-11-01 00:06:00</td>\n",
       "      <td>0</td>\n",
       "      <td>1</td>\n",
       "      <td>11</td>\n",
       "      <td>2023</td>\n",
       "      <td>...</td>\n",
       "      <td>1.20</td>\n",
       "      <td>10.0</td>\n",
       "      <td>1.00</td>\n",
       "      <td>0.5</td>\n",
       "      <td>3.00</td>\n",
       "      <td>0.00</td>\n",
       "      <td>1.0</td>\n",
       "      <td>2.5</td>\n",
       "      <td>0.00</td>\n",
       "      <td>18.00</td>\n",
       "    </tr>\n",
       "  </tbody>\n",
       "</table>\n",
       "<p>5 rows × 40 columns</p>\n",
       "</div>"
      ],
      "text/plain": [
       "   trip_id  vendorindex_id  vendor_id                       vendor_type  \\\n",
       "0        0               0          1  Creative Mobile Technologies,LLC   \n",
       "1        1               1          1  Creative Mobile Technologies,LLC   \n",
       "2        2               2          2                      Verifone Inc   \n",
       "3        3               3          2                      Verifone Inc   \n",
       "4        4               4          2                      Verifone Inc   \n",
       "\n",
       "   datetimeindex_id       pick_datetime  pick_hour  pick_day  pick_month  \\\n",
       "0                 0 2023-11-01 00:03:00          0         1          11   \n",
       "1                 1 2023-11-01 00:03:00          0         1          11   \n",
       "2                 2 2023-10-31 23:58:00         23        31          10   \n",
       "3                 3 2023-11-01 00:03:00          0         1          11   \n",
       "4                 4 2023-11-01 00:06:00          0         1          11   \n",
       "\n",
       "   pick_year  ...  trip_distance fare_amount  extra  mta_tax  tip_amount  \\\n",
       "0       2023  ...          13.60        61.8   2.75      0.5        0.00   \n",
       "1       2023  ...           3.50        20.5   3.50      0.5        5.10   \n",
       "2       2023  ...          18.61        70.0   0.00      0.5       16.54   \n",
       "3       2023  ...           0.39         4.4   1.00      0.5        1.88   \n",
       "4       2023  ...           1.20        10.0   1.00      0.5        3.00   \n",
       "\n",
       "   tolls_amount  improvement_surcharge  congestion_surcharge  Airport_fee  \\\n",
       "0          0.00                    1.0                   0.0         1.75   \n",
       "1          0.00                    1.0                   2.5         0.00   \n",
       "2          6.94                    1.0                   2.5         1.75   \n",
       "3          0.00                    1.0                   2.5         0.00   \n",
       "4          0.00                    1.0                   2.5         0.00   \n",
       "\n",
       "  total_amount  \n",
       "0        66.05  \n",
       "1        30.60  \n",
       "2        99.23  \n",
       "3        11.28  \n",
       "4        18.00  \n",
       "\n",
       "[5 rows x 40 columns]"
      ]
     },
     "execution_count": 48,
     "metadata": {},
     "output_type": "execute_result"
    }
   ],
   "source": [
    "df.head()"
   ]
  },
  {
   "cell_type": "code",
   "execution_count": 12,
   "id": "afd22bd2",
   "metadata": {},
   "outputs": [],
   "source": [
    "df = df.drop_duplicates().reset_index(drop=True)"
   ]
  },
  {
   "cell_type": "code",
   "execution_count": 41,
   "id": "a40091a9",
   "metadata": {},
   "outputs": [
    {
     "name": "stdout",
     "output_type": "stream",
     "text": [
      "Number of duplicate rows: 0\n"
     ]
    }
   ],
   "source": [
    "number_of_duplicates = duplicates.sum()\n",
    "print(\"Number of duplicate rows:\", number_of_duplicates)\n"
   ]
  },
  {
   "cell_type": "code",
   "execution_count": 38,
   "id": "4c352f5b",
   "metadata": {},
   "outputs": [],
   "source": [
    "df.insert(0, 'trip_index_id', df.index)\n",
    "df.insert(1, 'ratecodeindex_id',df.index)\n",
    "df.insert(2,'payment_typeindex_id',df.index)\n",
    "df.insert(3,'store_and_fwd_flag_index_id', df.index)\n",
    "df.insert(4, 'vendor_index', df.index)\n",
    "df.insert(5,'datetimeindex_id', df.index)\n",
    "df.insert(6, 'locationindex_id', df.index)"
   ]
  },
  {
   "cell_type": "code",
   "execution_count": 46,
   "id": "97019168",
   "metadata": {},
   "outputs": [],
   "source": [
    "df.to_parquet('yellow_tripdata_2023-11.parquet')\n"
   ]
  },
  {
   "cell_type": "code",
   "execution_count": 25,
   "id": "807f160e",
   "metadata": {},
   "outputs": [
    {
     "name": "stdout",
     "output_type": "stream",
     "text": [
      "Current Directory: C:\\Users\\lshb8\\Documents\\Real-Time Data Stream\\index_data_column\n",
      "Full File Path: C:\\Users\\lshb8\\Documents\\Real-Time Data Stream\\index_data_column\\your_file_name.parquet\n"
     ]
    }
   ],
   "source": [
    "\n",
    "# This will give you the current working directory\n",
    "current_directory = os.getcwd()\n",
    "print(\"Current Directory:\", current_directory)\n",
    "\n",
    "# To get the full path to your file, append the file name to the current directory\n",
    "file_path = os.path.join(current_directory, 'your_file_name.parquet')\n",
    "print(\"Full File Path:\", file_path)\n"
   ]
  },
  {
   "cell_type": "code",
   "execution_count": 26,
   "id": "286d3547",
   "metadata": {},
   "outputs": [
    {
     "name": "stdout",
     "output_type": "stream",
     "text": [
      "File saved to C:\\Users\\lshb8\\Documents\\Real-Time Data Stream\\index_data_column\\yellow_tripdata_2023-11(1).parquet\n"
     ]
    }
   ],
   "source": [
    "file_path = r'C:\\Users\\lshb8\\Documents\\Real-Time Data Stream\\index_data_column\\yellow_tripdata_2023-11(1).parquet'\n",
    "\n",
    "# Save the DataFrame to a Parquet file\n",
    "df.to_parquet(file_path)\n",
    "\n",
    "print(f\"File saved to {file_path}\")"
   ]
  }
 ],
 "metadata": {
  "kernelspec": {
   "display_name": "Python 3 (ipykernel)",
   "language": "python",
   "name": "python3"
  },
  "language_info": {
   "codemirror_mode": {
    "name": "ipython",
    "version": 3
   },
   "file_extension": ".py",
   "mimetype": "text/x-python",
   "name": "python",
   "nbconvert_exporter": "python",
   "pygments_lexer": "ipython3",
   "version": "3.11.5"
  }
 },
 "nbformat": 4,
 "nbformat_minor": 5
}
